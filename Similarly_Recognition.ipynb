{
 "cells": [
  {
   "cell_type": "code",
   "execution_count": null,
   "metadata": {},
   "outputs": [],
   "source": [
    "# "
   ]
  },
  {
   "cell_type": "code",
   "execution_count": null,
   "metadata": {},
   "outputs": [],
   "source": []
  },
  {
   "cell_type": "code",
   "execution_count": null,
   "metadata": {},
   "outputs": [],
   "source": []
  },
  {
   "cell_type": "code",
   "execution_count": null,
   "metadata": {},
   "outputs": [],
   "source": []
  },
  {
   "cell_type": "code",
   "execution_count": null,
   "metadata": {},
   "outputs": [],
   "source": [
    "def CreateSimilarlyList(moveList, partList):\n",
    "    result = []\n",
    "    for move, part in zip(moveList, partList):\n",
    "        if move == part == 1:\n",
    "            result.append(1)\n",
    "        else: result.append(0)\n",
    "    return result\n",
    "\n",
    "def CompareSimilarlyListWithHandmade(similaryList, handmadeList):\n",
    "    result = []\n",
    "    for similarly, handmade in zip(similaryList, handmadeList):\n",
    "        if similarly == handmade:\n",
    "            if similarly == 1:\n",
    "                result.append(3)\n",
    "            else: result.append(2)\n",
    "        else:\n",
    "            if handmade == 1:\n",
    "                result.append(1)\n",
    "            else: result.append(0)\n",
    "    return result\n"
   ]
  },
  {
   "cell_type": "markdown",
   "metadata": {},
   "source": [
    "# README\n",
    "\n",
    "## パートと数値の関係\n",
    "0: None\n",
    "1: Drum\n",
    "2: Melody\n",
    "3: Vocal\n",
    "\n",
    "## 目視データと出力データの比較の際の数値\n",
    "0: 出力データのみ\n",
    "1: 目視データのみ重複タイミング発生\n",
    "2: 両方重複タイミング無し\n",
    "3: 両方重複隊ミンングあり"
   ]
  }
 ],
 "metadata": {
  "kernelspec": {
   "display_name": "Python 3.9.13 64-bit",
   "language": "python",
   "name": "python3"
  },
  "language_info": {
   "name": "python",
   "version": "3.9.13"
  },
  "orig_nbformat": 4,
  "vscode": {
   "interpreter": {
    "hash": "6ecdebf77f2ee3a47348d003f751c63e810ca996c1c68d1179f338200fa83b34"
   }
  }
 },
 "nbformat": 4,
 "nbformat_minor": 2
}
